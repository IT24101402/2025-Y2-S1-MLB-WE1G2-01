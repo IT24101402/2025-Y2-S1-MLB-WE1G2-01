{
 "cells": [
  {
   "cell_type": "code",
   "id": "initial_id",
   "metadata": {
    "collapsed": true,
    "ExecuteTime": {
     "end_time": "2025-09-25T19:21:30.967831Z",
     "start_time": "2025-09-25T19:21:30.964948Z"
    }
   },
   "source": [
    "import os, json, csv, random\n",
    "from collections import Counter, defaultdict\n",
    "from collections import Counter, defaultdict\n",
    "import pandas as pd\n",
    "import matplotlib.pyplot as plt"
   ],
   "outputs": [],
   "execution_count": 49
  },
  {
   "metadata": {
    "ExecuteTime": {
     "end_time": "2025-09-25T19:21:32.441953Z",
     "start_time": "2025-09-25T19:21:32.438764Z"
    }
   },
   "cell_type": "code",
   "source": [
    "dataset_path = \"C:/Users/Sagala Rasanjana/Desktop/2025-Y2-S1-MLB-WE1G2-01/Tea Leaf Disease Dataset\"\n",
    "print(repr(dataset_path))\n",
    "print(os.path.exists(dataset_path))"
   ],
   "id": "4c6d13874163d334",
   "outputs": [
    {
     "name": "stdout",
     "output_type": "stream",
     "text": [
      "'C:/Users/Sagala Rasanjana/Desktop/2025-Y2-S1-MLB-WE1G2-01/Tea Leaf Disease Dataset'\n",
      "True\n"
     ]
    }
   ],
   "execution_count": 50
  },
  {
   "metadata": {
    "ExecuteTime": {
     "end_time": "2025-09-25T19:22:12.702537Z",
     "start_time": "2025-09-25T19:22:12.329795Z"
    }
   },
   "cell_type": "code",
   "source": [
    "# ----- Helper functions -----\n",
    "def read_index_from_dir(root_dir):\n",
    "    # Get all image paths and their class names\n",
    "    paths, labels = [], []\n",
    "    for cls in sorted(os.listdir(root_dir)):\n",
    "        cdir = os.path.join(root_dir, cls)\n",
    "        if not os.path.isdir(cdir):\n",
    "            continue\n",
    "        for f in os.listdir(cdir):\n",
    "            if f.lower().endswith((\".jpg\",\".jpeg\",\".png\",\".bmp\",\".webp\")):\n",
    "                paths.append(os.path.join(cdir, f))\n",
    "                labels.append(cls)\n",
    "    return paths, labels\n",
    "\n",
    "def compute_class_weights(labels):\n",
    "    # Count images and compute weights\n",
    "    counts = Counter(labels)\n",
    "    total = sum(counts.values())\n",
    "    num_classes = len(counts)\n",
    "    weights = {c: total/(num_classes*cnt) for c, cnt in counts.items()}\n",
    "    return weights, dict(counts)\n",
    "\n",
    "def write_json(d, path):\n",
    "    # Save a dictionary as JSON\n",
    "    os.makedirs(os.path.dirname(path), exist_ok=True)\n",
    "    with open(path, \"w\") as f:\n",
    "        json.dump(d, f, indent=2)\n",
    "\n",
    "def make_oversampled_index(paths, labels, out_csv, target_multiplier=1.0):\n",
    "    # Create a balanced CSV by oversampling small classes\n",
    "    by_cls = defaultdict(list)\n",
    "    for p, l in zip(paths, labels):\n",
    "        by_cls[l].append(p)\n",
    "\n",
    "    max_count = max(len(v) for v in by_cls.values())\n",
    "    target = int(max_count * target_multiplier)\n",
    "\n",
    "    rows = []\n",
    "    for cls, plist in by_cls.items():\n",
    "        if len(plist) >= target:\n",
    "            take = random.sample(plist, target)\n",
    "        else:\n",
    "            mult = (target + len(plist) - 1) // len(plist)\n",
    "            take = (plist * mult)[:target]\n",
    "        rows.extend([(p, cls) for p in take])\n",
    "\n",
    "    random.shuffle(rows)\n",
    "    os.makedirs(os.path.dirname(out_csv), exist_ok=True)\n",
    "    with open(out_csv, \"w\", newline=\"\") as f:\n",
    "        w = csv.writer(f)\n",
    "        w.writerow([\"path\", \"label\"])\n",
    "        w.writerows(rows)\n",
    "\n",
    "def run_imbalance(train_dir, out_dir):\n",
    "    # Run full process and save outputs\n",
    "    paths, labels = read_index_from_dir(train_dir)\n",
    "    weights, counts = compute_class_weights(labels)\n",
    "    write_json({\"class_weights\": weights, \"class_counts\": counts},\n",
    "               os.path.join(out_dir, \"class_weights.json\"))\n",
    "    make_oversampled_index(paths, labels,\n",
    "               os.path.join(out_dir, \"train_oversampled.csv\"),\n",
    "               target_multiplier=1.0)\n",
    "\n",
    "# ----- Main -----\n",
    "if __name__ == \"__main__\":\n",
    "    dataset_path = \"C:/Users/Sagala Rasanjana/Desktop/2025-Y2-S1-MLB-WE1G2-01/Tea Leaf Disease Dataset\"   # dataset folder\n",
    "    output_path  = \"output\"                     # output folder\n",
    "\n",
    "    # Process dataset\n",
    "    run_imbalance(dataset_path, output_path)\n",
    "\n",
    "    # Load results\n",
    "    weights_json = os.path.join(output_path, \"class_weights.json\")\n",
    "    oversampled_csv = os.path.join(output_path, \"train_oversampled.csv\")\n",
    "\n",
    "    with open(weights_json, \"r\") as f:\n",
    "        data = json.load(f)\n",
    "\n",
    "    orig_counts = pd.Series(data[\"class_counts\"])\n",
    "    oversampled_counts = pd.read_csv(oversampled_csv)[\"label\"].value_counts()\n",
    "\n",
    "    # Compare original vs balanced counts\n",
    "    compare_df = pd.DataFrame({\n",
    "        \"Original\": orig_counts,\n",
    "        \"Balanced\": oversampled_counts\n",
    "    }).fillna(0).astype(int)\n",
    "\n",
    "    # Plot chart\n",
    "    plt.figure(figsize=(10,6))\n",
    "    compare_df.plot(kind=\"bar\")\n",
    "    plt.title(\"Original vs Balanced Class Counts\")\n",
    "    plt.xlabel(\"Class\")\n",
    "    plt.ylabel(\"Images\")\n",
    "    plt.xticks(rotation=45, ha=\"right\")\n",
    "    plt.tight_layout()\n",
    "    plt.show()\n",
    "\n",
    "    # Print table\n",
    "    print(compare_df)"
   ],
   "id": "cf4a094fe9ace8af",
   "outputs": [
    {
     "data": {
      "text/plain": [
       "<Figure size 1000x600 with 0 Axes>"
      ]
     },
     "metadata": {},
     "output_type": "display_data",
     "jetTransient": {
      "display_id": null
     }
    },
    {
     "data": {
      "text/plain": [
       "<Figure size 640x480 with 1 Axes>"
      ],
      "image/png": "[encoded data removed]"
     },
     "metadata": {},
     "output_type": "display_data",
     "jetTransient": {
      "display_id": null
     }
    },
    {
     "name": "stdout",
     "output_type": "stream",
     "text": [
      "              Original  Balanced\n",
      "algal_spot        5497      5537\n",
      "brown_blight      4908      5537\n",
      "gray_blight       5537      5537\n",
      "healthy           5492      5537\n",
      "helopeltis        5482      5537\n",
      "red_spot          5505      5537\n"
     ]
    }
   ],
   "execution_count": 51
  },
  {
   "metadata": {},
   "cell_type": "code",
   "outputs": [],
   "execution_count": null,
   "source": "",
   "id": "4f4a2bf6b2cc364f"
  }
 ],
 "metadata": {
  "kernelspec": {
   "display_name": "Python 3",
   "language": "python",
   "name": "python3"
  },
  "language_info": {
   "codemirror_mode": {
    "name": "ipython",
    "version": 2
   },
   "file_extension": ".py",
   "mimetype": "text/x-python",
   "name": "python",
   "nbconvert_exporter": "python",
   "pygments_lexer": "ipython2",
   "version": "2.7.6"
  }
 },
 "nbformat": 4,
 "nbformat_minor": 5
}
